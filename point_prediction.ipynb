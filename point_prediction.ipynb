{
 "cells": [
  {
   "cell_type": "code",
   "execution_count": 3,
   "metadata": {},
   "outputs": [],
   "source": [
    "import requests\n",
    "import pandas as pd\n",
    "from tqdm import tqdm"
   ]
  },
  {
   "cell_type": "code",
   "execution_count": 4,
   "metadata": {},
   "outputs": [],
   "source": [
    "# async with httpx.AsyncClient() as client:\n",
    "#     overall_data = await client.get('https://fantasy.premierleague.com/api/bootstrap-static/')\n",
    "overall_data = requests.get('https://fantasy.premierleague.com/api/bootstrap-static/')\n",
    "overall_data = overall_data.json()"
   ]
  },
  {
   "cell_type": "code",
   "execution_count": 5,
   "metadata": {},
   "outputs": [],
   "source": [
    "df = pd.DataFrame(overall_data['elements'])"
   ]
  },
  {
   "cell_type": "code",
   "execution_count": 6,
   "metadata": {},
   "outputs": [],
   "source": [
    "df.index=df['id']"
   ]
  },
  {
   "cell_type": "code",
   "execution_count": 7,
   "metadata": {},
   "outputs": [],
   "source": [
    "columns_to_remove = ['first_name','photo','news','news_added','second_name','squad_number','web_name','code']"
   ]
  },
  {
   "cell_type": "code",
   "execution_count": 8,
   "metadata": {},
   "outputs": [
    {
     "data": {
      "text/plain": [
       "80"
      ]
     },
     "execution_count": 8,
     "metadata": {},
     "output_type": "execute_result"
    }
   ],
   "source": [
    "df.drop(columns_to_remove,axis=1,inplace=True)\n",
    "len(df.columns)"
   ]
  },
  {
   "cell_type": "code",
   "execution_count": 9,
   "metadata": {},
   "outputs": [
    {
     "data": {
      "text/plain": [
       "617"
      ]
     },
     "execution_count": 9,
     "metadata": {},
     "output_type": "execute_result"
    }
   ],
   "source": [
    "df = df[(df.status != \"u\")]\n",
    "len(df)"
   ]
  },
  {
   "cell_type": "code",
   "execution_count": 10,
   "metadata": {},
   "outputs": [
    {
     "name": "stderr",
     "output_type": "stream",
     "text": [
      "100%|██████████| 617/617 [08:35<00:00,  1.20it/s]\n"
     ]
    }
   ],
   "source": [
    "train = []\n",
    "test = []\n",
    "for i in tqdm(range(len(df['id']))):\n",
    "    player_data = requests.get('https://fantasy.premierleague.com/api/element-summary/'+str(df['id'].iloc[i])+'/')\n",
    "    player_data = player_data.json()\n",
    "    for i in player_data['history']:\n",
    "        train.append(i)\n",
    "    for i in player_data['fixtures']:\n",
    "        test.append(i)"
   ]
  },
  {
   "cell_type": "code",
   "execution_count": 11,
   "metadata": {},
   "outputs": [],
   "source": [
    "train_df = pd.DataFrame(train)\n",
    "test_df = pd.DataFrame(test)"
   ]
  },
  {
   "cell_type": "code",
   "execution_count": 18,
   "metadata": {},
   "outputs": [],
   "source": [
    "train_df.to_excel(\"train.xlsx\",sheet_name=\"train_data\")"
   ]
  },
  {
   "cell_type": "code",
   "execution_count": 19,
   "metadata": {},
   "outputs": [],
   "source": [
    "test_df.to_excel(\"test.xlsx\",sheet_name=\"test_data\")"
   ]
  },
  {
   "cell_type": "code",
   "execution_count": 4,
   "metadata": {},
   "outputs": [],
   "source": [
    "train_df = pd.read_excel('train.xlsx')\n",
    "test_df = pd.read_excel('test.xlsx')"
   ]
  },
  {
   "cell_type": "code",
   "execution_count": 5,
   "metadata": {},
   "outputs": [
    {
     "data": {
      "text/plain": [
       "Index(['Unnamed: 0', 'element', 'fixture', 'opponent_team', 'total_points',\n",
       "       'was_home', 'kickoff_time', 'team_h_score', 'team_a_score', 'round',\n",
       "       'minutes', 'goals_scored', 'assists', 'clean_sheets', 'goals_conceded',\n",
       "       'own_goals', 'penalties_saved', 'penalties_missed', 'yellow_cards',\n",
       "       'red_cards', 'saves', 'bonus', 'bps', 'influence', 'creativity',\n",
       "       'threat', 'ict_index', 'starts', 'expected_goals', 'expected_assists',\n",
       "       'expected_goal_involvements', 'expected_goals_conceded', 'value',\n",
       "       'transfers_balance', 'selected', 'transfers_in', 'transfers_out'],\n",
       "      dtype='object')"
      ]
     },
     "execution_count": 5,
     "metadata": {},
     "output_type": "execute_result"
    }
   ],
   "source": [
    "train_df.columns"
   ]
  },
  {
   "cell_type": "code",
   "execution_count": 19,
   "metadata": {},
   "outputs": [
    {
     "data": {
      "text/html": [
       "<div>\n",
       "<style scoped>\n",
       "    .dataframe tbody tr th:only-of-type {\n",
       "        vertical-align: middle;\n",
       "    }\n",
       "\n",
       "    .dataframe tbody tr th {\n",
       "        vertical-align: top;\n",
       "    }\n",
       "\n",
       "    .dataframe thead th {\n",
       "        text-align: right;\n",
       "    }\n",
       "</style>\n",
       "<table border=\"1\" class=\"dataframe\">\n",
       "  <thead>\n",
       "    <tr style=\"text-align: right;\">\n",
       "      <th></th>\n",
       "      <th>Unnamed: 0</th>\n",
       "      <th>id</th>\n",
       "      <th>code</th>\n",
       "      <th>team_h</th>\n",
       "      <th>team_h_score</th>\n",
       "      <th>team_a</th>\n",
       "      <th>team_a_score</th>\n",
       "      <th>event</th>\n",
       "      <th>finished</th>\n",
       "      <th>minutes</th>\n",
       "      <th>provisional_start_time</th>\n",
       "      <th>kickoff_time</th>\n",
       "      <th>event_name</th>\n",
       "      <th>is_home</th>\n",
       "      <th>difficulty</th>\n",
       "    </tr>\n",
       "  </thead>\n",
       "  <tbody>\n",
       "    <tr>\n",
       "      <th>0</th>\n",
       "      <td>0</td>\n",
       "      <td>201</td>\n",
       "      <td>2367739</td>\n",
       "      <td>1</td>\n",
       "      <td>NaN</td>\n",
       "      <td>8</td>\n",
       "      <td>NaN</td>\n",
       "      <td>21.0</td>\n",
       "      <td>False</td>\n",
       "      <td>0</td>\n",
       "      <td>False</td>\n",
       "      <td>2024-01-20T12:30:00Z</td>\n",
       "      <td>Gameweek 21</td>\n",
       "      <td>True</td>\n",
       "      <td>2</td>\n",
       "    </tr>\n",
       "    <tr>\n",
       "      <th>1</th>\n",
       "      <td>1</td>\n",
       "      <td>215</td>\n",
       "      <td>2367752</td>\n",
       "      <td>16</td>\n",
       "      <td>NaN</td>\n",
       "      <td>1</td>\n",
       "      <td>NaN</td>\n",
       "      <td>22.0</td>\n",
       "      <td>False</td>\n",
       "      <td>0</td>\n",
       "      <td>False</td>\n",
       "      <td>2024-01-30T19:30:00Z</td>\n",
       "      <td>Gameweek 22</td>\n",
       "      <td>False</td>\n",
       "      <td>2</td>\n",
       "    </tr>\n",
       "    <tr>\n",
       "      <th>2</th>\n",
       "      <td>2</td>\n",
       "      <td>221</td>\n",
       "      <td>2367759</td>\n",
       "      <td>1</td>\n",
       "      <td>NaN</td>\n",
       "      <td>11</td>\n",
       "      <td>NaN</td>\n",
       "      <td>23.0</td>\n",
       "      <td>False</td>\n",
       "      <td>0</td>\n",
       "      <td>False</td>\n",
       "      <td>2024-02-04T16:30:00Z</td>\n",
       "      <td>Gameweek 23</td>\n",
       "      <td>True</td>\n",
       "      <td>4</td>\n",
       "    </tr>\n",
       "    <tr>\n",
       "      <th>3</th>\n",
       "      <td>3</td>\n",
       "      <td>239</td>\n",
       "      <td>2367776</td>\n",
       "      <td>19</td>\n",
       "      <td>NaN</td>\n",
       "      <td>1</td>\n",
       "      <td>NaN</td>\n",
       "      <td>24.0</td>\n",
       "      <td>False</td>\n",
       "      <td>0</td>\n",
       "      <td>False</td>\n",
       "      <td>2024-02-11T14:00:00Z</td>\n",
       "      <td>Gameweek 24</td>\n",
       "      <td>False</td>\n",
       "      <td>3</td>\n",
       "    </tr>\n",
       "    <tr>\n",
       "      <th>4</th>\n",
       "      <td>4</td>\n",
       "      <td>242</td>\n",
       "      <td>2367779</td>\n",
       "      <td>6</td>\n",
       "      <td>NaN</td>\n",
       "      <td>1</td>\n",
       "      <td>NaN</td>\n",
       "      <td>25.0</td>\n",
       "      <td>False</td>\n",
       "      <td>0</td>\n",
       "      <td>False</td>\n",
       "      <td>2024-02-17T15:00:00Z</td>\n",
       "      <td>Gameweek 25</td>\n",
       "      <td>False</td>\n",
       "      <td>2</td>\n",
       "    </tr>\n",
       "    <tr>\n",
       "      <th>...</th>\n",
       "      <td>...</td>\n",
       "      <td>...</td>\n",
       "      <td>...</td>\n",
       "      <td>...</td>\n",
       "      <td>...</td>\n",
       "      <td>...</td>\n",
       "      <td>...</td>\n",
       "      <td>...</td>\n",
       "      <td>...</td>\n",
       "      <td>...</td>\n",
       "      <td>...</td>\n",
       "      <td>...</td>\n",
       "      <td>...</td>\n",
       "      <td>...</td>\n",
       "      <td>...</td>\n",
       "    </tr>\n",
       "    <tr>\n",
       "      <th>11157</th>\n",
       "      <td>11157</td>\n",
       "      <td>340</td>\n",
       "      <td>2367877</td>\n",
       "      <td>20</td>\n",
       "      <td>NaN</td>\n",
       "      <td>1</td>\n",
       "      <td>NaN</td>\n",
       "      <td>34.0</td>\n",
       "      <td>False</td>\n",
       "      <td>0</td>\n",
       "      <td>False</td>\n",
       "      <td>2024-04-20T14:00:00Z</td>\n",
       "      <td>Gameweek 34</td>\n",
       "      <td>True</td>\n",
       "      <td>4</td>\n",
       "    </tr>\n",
       "    <tr>\n",
       "      <th>11158</th>\n",
       "      <td>11158</td>\n",
       "      <td>350</td>\n",
       "      <td>2367887</td>\n",
       "      <td>20</td>\n",
       "      <td>NaN</td>\n",
       "      <td>12</td>\n",
       "      <td>NaN</td>\n",
       "      <td>35.0</td>\n",
       "      <td>False</td>\n",
       "      <td>0</td>\n",
       "      <td>False</td>\n",
       "      <td>2024-04-27T14:00:00Z</td>\n",
       "      <td>Gameweek 35</td>\n",
       "      <td>True</td>\n",
       "      <td>2</td>\n",
       "    </tr>\n",
       "    <tr>\n",
       "      <th>11159</th>\n",
       "      <td>11159</td>\n",
       "      <td>359</td>\n",
       "      <td>2367896</td>\n",
       "      <td>13</td>\n",
       "      <td>NaN</td>\n",
       "      <td>20</td>\n",
       "      <td>NaN</td>\n",
       "      <td>36.0</td>\n",
       "      <td>False</td>\n",
       "      <td>0</td>\n",
       "      <td>False</td>\n",
       "      <td>2024-05-04T14:00:00Z</td>\n",
       "      <td>Gameweek 36</td>\n",
       "      <td>False</td>\n",
       "      <td>5</td>\n",
       "    </tr>\n",
       "    <tr>\n",
       "      <th>11160</th>\n",
       "      <td>11160</td>\n",
       "      <td>370</td>\n",
       "      <td>2367907</td>\n",
       "      <td>20</td>\n",
       "      <td>NaN</td>\n",
       "      <td>8</td>\n",
       "      <td>NaN</td>\n",
       "      <td>37.0</td>\n",
       "      <td>False</td>\n",
       "      <td>0</td>\n",
       "      <td>False</td>\n",
       "      <td>2024-05-11T14:00:00Z</td>\n",
       "      <td>Gameweek 37</td>\n",
       "      <td>True</td>\n",
       "      <td>2</td>\n",
       "    </tr>\n",
       "    <tr>\n",
       "      <th>11161</th>\n",
       "      <td>11161</td>\n",
       "      <td>377</td>\n",
       "      <td>2367914</td>\n",
       "      <td>11</td>\n",
       "      <td>NaN</td>\n",
       "      <td>20</td>\n",
       "      <td>NaN</td>\n",
       "      <td>38.0</td>\n",
       "      <td>False</td>\n",
       "      <td>0</td>\n",
       "      <td>False</td>\n",
       "      <td>2024-05-19T15:00:00Z</td>\n",
       "      <td>Gameweek 38</td>\n",
       "      <td>False</td>\n",
       "      <td>5</td>\n",
       "    </tr>\n",
       "  </tbody>\n",
       "</table>\n",
       "<p>11162 rows × 15 columns</p>\n",
       "</div>"
      ],
      "text/plain": [
       "       Unnamed: 0   id     code  team_h  team_h_score  team_a  team_a_score  \\\n",
       "0               0  201  2367739       1           NaN       8           NaN   \n",
       "1               1  215  2367752      16           NaN       1           NaN   \n",
       "2               2  221  2367759       1           NaN      11           NaN   \n",
       "3               3  239  2367776      19           NaN       1           NaN   \n",
       "4               4  242  2367779       6           NaN       1           NaN   \n",
       "...           ...  ...      ...     ...           ...     ...           ...   \n",
       "11157       11157  340  2367877      20           NaN       1           NaN   \n",
       "11158       11158  350  2367887      20           NaN      12           NaN   \n",
       "11159       11159  359  2367896      13           NaN      20           NaN   \n",
       "11160       11160  370  2367907      20           NaN       8           NaN   \n",
       "11161       11161  377  2367914      11           NaN      20           NaN   \n",
       "\n",
       "       event  finished  minutes  provisional_start_time          kickoff_time  \\\n",
       "0       21.0     False        0                   False  2024-01-20T12:30:00Z   \n",
       "1       22.0     False        0                   False  2024-01-30T19:30:00Z   \n",
       "2       23.0     False        0                   False  2024-02-04T16:30:00Z   \n",
       "3       24.0     False        0                   False  2024-02-11T14:00:00Z   \n",
       "4       25.0     False        0                   False  2024-02-17T15:00:00Z   \n",
       "...      ...       ...      ...                     ...                   ...   \n",
       "11157   34.0     False        0                   False  2024-04-20T14:00:00Z   \n",
       "11158   35.0     False        0                   False  2024-04-27T14:00:00Z   \n",
       "11159   36.0     False        0                   False  2024-05-04T14:00:00Z   \n",
       "11160   37.0     False        0                   False  2024-05-11T14:00:00Z   \n",
       "11161   38.0     False        0                   False  2024-05-19T15:00:00Z   \n",
       "\n",
       "        event_name  is_home  difficulty  \n",
       "0      Gameweek 21     True           2  \n",
       "1      Gameweek 22    False           2  \n",
       "2      Gameweek 23     True           4  \n",
       "3      Gameweek 24    False           3  \n",
       "4      Gameweek 25    False           2  \n",
       "...            ...      ...         ...  \n",
       "11157  Gameweek 34     True           4  \n",
       "11158  Gameweek 35     True           2  \n",
       "11159  Gameweek 36    False           5  \n",
       "11160  Gameweek 37     True           2  \n",
       "11161  Gameweek 38    False           5  \n",
       "\n",
       "[11162 rows x 15 columns]"
      ]
     },
     "execution_count": 19,
     "metadata": {},
     "output_type": "execute_result"
    }
   ],
   "source": [
    "test_df"
   ]
  },
  {
   "cell_type": "code",
   "execution_count": 41,
   "metadata": {},
   "outputs": [],
   "source": [
    "train_x = train_df[train_df['element']==355]\n",
    "train_x = train_x[['round','expected_goal_involvements','opponent_team','minutes']]\n",
    "# train_x"
   ]
  },
  {
   "cell_type": "code",
   "execution_count": 23,
   "metadata": {},
   "outputs": [],
   "source": [
    "import numpy as np"
   ]
  },
  {
   "cell_type": "code",
   "execution_count": 42,
   "metadata": {},
   "outputs": [
    {
     "name": "stderr",
     "output_type": "stream",
     "text": [
      "C:\\Users\\Dr. B. N. Sivasankar\\AppData\\Local\\Temp\\ipykernel_10048\\4143203310.py:1: UserWarning: Boolean Series key will be reindexed to match DataFrame index.\n",
      "  test_x = test_df[train_df['element']==355]\n",
      "C:\\Users\\Dr. B. N. Sivasankar\\AppData\\Local\\Temp\\ipykernel_10048\\4143203310.py:2: SettingWithCopyWarning: \n",
      "A value is trying to be set on a copy of a slice from a DataFrame.\n",
      "Try using .loc[row_indexer,col_indexer] = value instead\n",
      "\n",
      "See the caveats in the documentation: https://pandas.pydata.org/pandas-docs/stable/user_guide/indexing.html#returning-a-view-versus-a-copy\n",
      "  test_x['Opponent_team'] = np.where(test_x['is_home'] > True, test_x['team_h'], test_x['team_a'])\n"
     ]
    },
    {
     "data": {
      "text/html": [
       "<div>\n",
       "<style scoped>\n",
       "    .dataframe tbody tr th:only-of-type {\n",
       "        vertical-align: middle;\n",
       "    }\n",
       "\n",
       "    .dataframe tbody tr th {\n",
       "        vertical-align: top;\n",
       "    }\n",
       "\n",
       "    .dataframe thead th {\n",
       "        text-align: right;\n",
       "    }\n",
       "</style>\n",
       "<table border=\"1\" class=\"dataframe\">\n",
       "  <thead>\n",
       "    <tr style=\"text-align: right;\">\n",
       "      <th></th>\n",
       "      <th>Opponent_team</th>\n",
       "    </tr>\n",
       "  </thead>\n",
       "  <tbody>\n",
       "    <tr>\n",
       "      <th>7431</th>\n",
       "      <td>15</td>\n",
       "    </tr>\n",
       "    <tr>\n",
       "      <th>7432</th>\n",
       "      <td>6</td>\n",
       "    </tr>\n",
       "    <tr>\n",
       "      <th>7433</th>\n",
       "      <td>14</td>\n",
       "    </tr>\n",
       "    <tr>\n",
       "      <th>7434</th>\n",
       "      <td>1</td>\n",
       "    </tr>\n",
       "    <tr>\n",
       "      <th>7435</th>\n",
       "      <td>14</td>\n",
       "    </tr>\n",
       "    <tr>\n",
       "      <th>7436</th>\n",
       "      <td>18</td>\n",
       "    </tr>\n",
       "    <tr>\n",
       "      <th>7437</th>\n",
       "      <td>14</td>\n",
       "    </tr>\n",
       "    <tr>\n",
       "      <th>7438</th>\n",
       "      <td>19</td>\n",
       "    </tr>\n",
       "    <tr>\n",
       "      <th>7439</th>\n",
       "      <td>14</td>\n",
       "    </tr>\n",
       "    <tr>\n",
       "      <th>7440</th>\n",
       "      <td>14</td>\n",
       "    </tr>\n",
       "    <tr>\n",
       "      <th>7441</th>\n",
       "      <td>10</td>\n",
       "    </tr>\n",
       "    <tr>\n",
       "      <th>7442</th>\n",
       "      <td>14</td>\n",
       "    </tr>\n",
       "    <tr>\n",
       "      <th>7443</th>\n",
       "      <td>9</td>\n",
       "    </tr>\n",
       "    <tr>\n",
       "      <th>7444</th>\n",
       "      <td>17</td>\n",
       "    </tr>\n",
       "    <tr>\n",
       "      <th>7445</th>\n",
       "      <td>14</td>\n",
       "    </tr>\n",
       "    <tr>\n",
       "      <th>7446</th>\n",
       "      <td>14</td>\n",
       "    </tr>\n",
       "    <tr>\n",
       "      <th>7447</th>\n",
       "      <td>11</td>\n",
       "    </tr>\n",
       "    <tr>\n",
       "      <th>7448</th>\n",
       "      <td>14</td>\n",
       "    </tr>\n",
       "    <tr>\n",
       "      <th>7449</th>\n",
       "      <td>15</td>\n",
       "    </tr>\n",
       "    <tr>\n",
       "      <th>7450</th>\n",
       "      <td>6</td>\n",
       "    </tr>\n",
       "  </tbody>\n",
       "</table>\n",
       "</div>"
      ],
      "text/plain": [
       "      Opponent_team\n",
       "7431             15\n",
       "7432              6\n",
       "7433             14\n",
       "7434              1\n",
       "7435             14\n",
       "7436             18\n",
       "7437             14\n",
       "7438             19\n",
       "7439             14\n",
       "7440             14\n",
       "7441             10\n",
       "7442             14\n",
       "7443              9\n",
       "7444             17\n",
       "7445             14\n",
       "7446             14\n",
       "7447             11\n",
       "7448             14\n",
       "7449             15\n",
       "7450              6"
      ]
     },
     "execution_count": 42,
     "metadata": {},
     "output_type": "execute_result"
    }
   ],
   "source": [
    "test_x = test_df[train_df['element']==355]\n",
    "test_x['Opponent_team'] = np.where(test_x['is_home'] > True, test_x['team_h'], test_x['team_a'])\n",
    "test_x = test_x[['Opponent_team']]\n",
    "test_x"
   ]
  },
  {
   "cell_type": "code",
   "execution_count": 43,
   "metadata": {},
   "outputs": [
    {
     "name": "stderr",
     "output_type": "stream",
     "text": [
      "c:\\Users\\Dr. B. N. Sivasankar\\AppData\\Local\\Programs\\Python\\Python312\\Lib\\site-packages\\statsmodels\\tsa\\base\\tsa_model.py:473: ValueWarning: An unsupported index was provided and will be ignored when e.g. forecasting.\n",
      "  self._init_dates(dates, freq)\n",
      "c:\\Users\\Dr. B. N. Sivasankar\\AppData\\Local\\Programs\\Python\\Python312\\Lib\\site-packages\\statsmodels\\tsa\\base\\tsa_model.py:473: ValueWarning: An unsupported index was provided and will be ignored when e.g. forecasting.\n",
      "  self._init_dates(dates, freq)\n",
      "c:\\Users\\Dr. B. N. Sivasankar\\AppData\\Local\\Programs\\Python\\Python312\\Lib\\site-packages\\statsmodels\\tsa\\base\\tsa_model.py:473: ValueWarning: An unsupported index was provided and will be ignored when e.g. forecasting.\n",
      "  self._init_dates(dates, freq)\n"
     ]
    }
   ],
   "source": [
    "from statsmodels.tsa.arima.model import ARIMA\n",
    "model = ARIMA(endog = train_x['expected_goal_involvements'], exog=train_x[['opponent_team']] , order=(1, 1, 1))\n"
   ]
  },
  {
   "cell_type": "code",
   "execution_count": 44,
   "metadata": {},
   "outputs": [
    {
     "name": "stderr",
     "output_type": "stream",
     "text": [
      "c:\\Users\\Dr. B. N. Sivasankar\\AppData\\Local\\Programs\\Python\\Python312\\Lib\\site-packages\\statsmodels\\tsa\\base\\tsa_model.py:836: ValueWarning: No supported index is available. Prediction results will be given with an integer index beginning at `start`.\n",
      "  return get_prediction_index(\n",
      "c:\\Users\\Dr. B. N. Sivasankar\\AppData\\Local\\Programs\\Python\\Python312\\Lib\\site-packages\\statsmodels\\tsa\\base\\tsa_model.py:836: FutureWarning: No supported index is available. In the next version, calling this method in a model without a supported index will result in an exception.\n",
      "  return get_prediction_index(\n"
     ]
    }
   ],
   "source": [
    "model_fit = model.fit()\n",
    "forecast = model_fit.forecast(steps=10, exog=test_x['Opponent_team'].iloc[:10])"
   ]
  },
  {
   "cell_type": "code",
   "execution_count": 45,
   "metadata": {},
   "outputs": [
    {
     "data": {
      "text/plain": [
       "20   -0.036948\n",
       "21   -0.242319\n",
       "22   -0.053541\n",
       "23   -0.374414\n",
       "24   -0.050234\n",
       "25    0.054385\n",
       "26   -0.048983\n",
       "27    0.078959\n",
       "28   -0.048511\n",
       "29   -0.048047\n",
       "Name: predicted_mean, dtype: float64"
      ]
     },
     "execution_count": 45,
     "metadata": {},
     "output_type": "execute_result"
    }
   ],
   "source": [
    "forecast"
   ]
  },
  {
   "cell_type": "code",
   "execution_count": 46,
   "metadata": {},
   "outputs": [
    {
     "data": {
      "text/plain": [
       "7431    0.65\n",
       "7432    0.45\n",
       "7433    1.94\n",
       "7434    1.68\n",
       "7435    2.59\n",
       "7436    0.70\n",
       "7437    0.09\n",
       "7438    0.17\n",
       "7439    0.26\n",
       "7440    2.51\n",
       "7441    0.46\n",
       "7442    2.06\n",
       "7443    0.74\n",
       "7444    0.99\n",
       "7445    0.83\n",
       "7446    0.00\n",
       "7447    0.00\n",
       "7448    0.00\n",
       "7449    0.00\n",
       "7450    0.00\n",
       "Name: expected_goal_involvements, dtype: float64"
      ]
     },
     "execution_count": 46,
     "metadata": {},
     "output_type": "execute_result"
    }
   ],
   "source": [
    "train_x['expected_goal_involvements']"
   ]
  },
  {
   "cell_type": "code",
   "execution_count": 39,
   "metadata": {},
   "outputs": [
    {
     "data": {
      "text/plain": [
       "Index(['Unnamed: 0', 'element', 'fixture', 'opponent_team', 'total_points',\n",
       "       'was_home', 'kickoff_time', 'team_h_score', 'team_a_score', 'round',\n",
       "       'minutes', 'goals_scored', 'assists', 'clean_sheets', 'goals_conceded',\n",
       "       'own_goals', 'penalties_saved', 'penalties_missed', 'yellow_cards',\n",
       "       'red_cards', 'saves', 'bonus', 'bps', 'influence', 'creativity',\n",
       "       'threat', 'ict_index', 'starts', 'expected_goals', 'expected_assists',\n",
       "       'expected_goal_involvements', 'expected_goals_conceded', 'value',\n",
       "       'transfers_balance', 'selected', 'transfers_in', 'transfers_out'],\n",
       "      dtype='object')"
      ]
     },
     "execution_count": 39,
     "metadata": {},
     "output_type": "execute_result"
    }
   ],
   "source": [
    "train_df.columns"
   ]
  },
  {
   "cell_type": "code",
   "execution_count": 40,
   "metadata": {},
   "outputs": [
    {
     "data": {
      "text/plain": [
       "Index(['Unnamed: 0', 'id', 'code', 'team_h', 'team_h_score', 'team_a',\n",
       "       'team_a_score', 'event', 'finished', 'minutes',\n",
       "       'provisional_start_time', 'kickoff_time', 'event_name', 'is_home',\n",
       "       'difficulty'],\n",
       "      dtype='object')"
      ]
     },
     "execution_count": 40,
     "metadata": {},
     "output_type": "execute_result"
    }
   ],
   "source": [
    "test_df.columns"
   ]
  },
  {
   "cell_type": "code",
   "execution_count": null,
   "metadata": {},
   "outputs": [],
   "source": []
  }
 ],
 "metadata": {
  "kernelspec": {
   "display_name": "Python 3",
   "language": "python",
   "name": "python3"
  },
  "language_info": {
   "codemirror_mode": {
    "name": "ipython",
    "version": 3
   },
   "file_extension": ".py",
   "mimetype": "text/x-python",
   "name": "python",
   "nbconvert_exporter": "python",
   "pygments_lexer": "ipython3",
   "version": "3.12.1"
  }
 },
 "nbformat": 4,
 "nbformat_minor": 2
}
